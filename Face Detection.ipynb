{
 "cells": [
  {
   "cell_type": "markdown",
   "metadata": {},
   "source": [
    "### Create Dataset from real-time Camera"
   ]
  },
  {
   "cell_type": "code",
   "execution_count": 4,
   "metadata": {},
   "outputs": [
    {
     "name": "stdout",
     "output_type": "stream",
     "text": [
      "Takes 30 images from Lap Camera\n",
      "Dataset obtained successfully\n"
     ]
    }
   ],
   "source": [
    "import cv2, os\n",
    "haar_file = 'haarcascade_frontalface_default.xml'\n",
    "datasets = 'dataset'  \n",
    "sub_data = 'db1'     \n",
    "\n",
    "path = os.path.join(datasets, sub_data)\n",
    "if not os.path.isdir(path):\n",
    "    os.mkdir(path)\n",
    "\n",
    "(width, height) = (130, 100)\n",
    "face_cascade = cv2.CascadeClassifier(haar_file)\n",
    "webcam = cv2.VideoCapture(0)\n",
    "\n",
    "count = 1\n",
    "print(\"Takes 30 images from Lap Camera\")\n",
    "while count < 31:\n",
    "    \n",
    "    (_, im) = webcam.read()\n",
    "    gray = cv2.cvtColor(im, cv2.COLOR_BGR2GRAY)\n",
    "    faces = face_cascade.detectMultiScale(gray, 1.3, 4)\n",
    "    for (x,y,w,h) in faces:\n",
    "        cv2.rectangle(im,(x,y),(x+w,y+h),(255,0,0),2)\n",
    "        face = gray[y:y + h, x:x + w]\n",
    "        face_resize = cv2.resize(face, (width, height))\n",
    "        cv2.imwrite('%s/%s.png' % (path,count), face_resize)\n",
    "    count += 1\n",
    "\t\n",
    "    cv2.imshow('OpenCV', im)\n",
    "    key = cv2.waitKey(10)\n",
    "    if key == 27:\n",
    "        break\n",
    "print(\"Dataset obtained successfully\")\n",
    "webcam.release()\n",
    "cv2.destroyAllWindows()"
   ]
  },
  {
   "cell_type": "markdown",
   "metadata": {},
   "source": [
    "Change VideoCapture(0) to 1 or 2 for using other camera.\n",
    "Use **IP Webcam** to use mobile camera."
   ]
  },
  {
   "cell_type": "markdown",
   "metadata": {},
   "source": [
    "Use pretrained face-detection module **haarcascade_frontalface_default**"
   ]
  },
  {
   "cell_type": "code",
   "execution_count": 2,
   "metadata": {},
   "outputs": [
    {
     "data": {
      "text/plain": [
       "-1"
      ]
     },
     "execution_count": 2,
     "metadata": {},
     "output_type": "execute_result"
    }
   ],
   "source": [
    "face_cascade = cv2.CascadeClassifier(\"haarcascade_frontalface_default.xml\")\n",
    "img=cv2.imread('Dataset/db1/10.jpg')\n",
    "\n",
    "grayImg = cv2.cvtColor(img,cv2.COLOR_BGR2GRAY)\n",
    "face = face_cascade.detectMultiScale(grayImg,1.1,4)\n",
    "for (x,y,w,h) in face:\n",
    "    cv2.rectangle(img,(x,y),(x+w,y+h), (0,255,0),2)\n",
    "\n",
    "cv2.imshow(\"FaceDetection\",img)\n",
    "cv2.waitKey()"
   ]
  },
  {
   "cell_type": "code",
   "execution_count": null,
   "metadata": {},
   "outputs": [],
   "source": []
  }
 ],
 "metadata": {
  "kernelspec": {
   "display_name": "Python 3",
   "language": "python",
   "name": "python3"
  },
  "language_info": {
   "codemirror_mode": {
    "name": "ipython",
    "version": 3
   },
   "file_extension": ".py",
   "mimetype": "text/x-python",
   "name": "python",
   "nbconvert_exporter": "python",
   "pygments_lexer": "ipython3",
   "version": "3.7.9"
  }
 },
 "nbformat": 4,
 "nbformat_minor": 4
}
